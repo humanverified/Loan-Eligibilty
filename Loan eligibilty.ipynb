{
 "cells": [
  {
   "cell_type": "code",
   "execution_count": 4,
   "id": "c6b756fe-edaf-4e2e-b5c8-75e4d4b0ab66",
   "metadata": {},
   "outputs": [],
   "source": [
    "import numpy as np\n",
    "import pandas as pd"
   ]
  },
  {
   "cell_type": "code",
   "execution_count": 6,
   "id": "5dd54f38-6a10-460b-9c7d-45197ac458af",
   "metadata": {},
   "outputs": [],
   "source": [
    "file=pd.read_csv(\"credit_risk_dataset.csv\")\n",
    "file['person_emp_length']=file['person_emp_length'].fillna(file['person_emp_length'].mean())\n",
    "file['loan_int_rate']=file['loan_int_rate'].fillna(file['loan_int_rate'].mean())\n",
    "file['loan_percent_income']=file['loan_percent_income']*100"
   ]
  },
  {
   "cell_type": "code",
   "execution_count": 8,
   "id": "1d34e07e-dde2-4983-8e97-0e8d7e4bfa87",
   "metadata": {},
   "outputs": [],
   "source": [
    "from sklearn.preprocessing import LabelEncoder"
   ]
  },
  {
   "cell_type": "code",
   "execution_count": 9,
   "id": "833a7f82-db2c-4592-a19d-05049f026969",
   "metadata": {},
   "outputs": [],
   "source": [
    "label_encoder={}\n",
    "for col in [\"person_home_ownership\",\"loan_intent\",\"loan_grade\"]:\n",
    "    le=LabelEncoder()\n",
    "    file[col]=le.fit_transform(file[col])\n",
    "    label_encoder[col]=le"
   ]
  },
  {
   "cell_type": "code",
   "execution_count": 10,
   "id": "c2d216e3-934b-43e5-af0e-9cebb537718f",
   "metadata": {},
   "outputs": [],
   "source": [
    "file=pd.get_dummies(file,columns=['cb_person_default_on_file'])"
   ]
  },
  {
   "cell_type": "code",
   "execution_count": 13,
   "id": "63eb3385-28c1-43b0-b200-478c2b31d29d",
   "metadata": {},
   "outputs": [],
   "source": [
    "X=file.drop(['loan_amnt','cb_person_cred_hist_length',],axis=1)\n",
    "Y=file['loan_amnt']"
   ]
  },
  {
   "cell_type": "code",
   "execution_count": 16,
   "id": "b2b6e007-4b8b-4b84-90eb-a3bd3eb308e7",
   "metadata": {},
   "outputs": [],
   "source": [
    "from sklearn.model_selection import train_test_split"
   ]
  },
  {
   "cell_type": "code",
   "execution_count": 18,
   "id": "869e016f-4af7-4708-87a3-328464159624",
   "metadata": {},
   "outputs": [],
   "source": [
    "X_train,X_test,Y_train,Y_test=train_test_split(X,Y,test_size=0.2,random_state=24)"
   ]
  },
  {
   "cell_type": "code",
   "execution_count": 20,
   "id": "b4e60d0d-36f3-497d-b6e2-7d8672098474",
   "metadata": {},
   "outputs": [],
   "source": [
    "from sklearn.ensemble import GradientBoostingRegressor"
   ]
  },
  {
   "cell_type": "code",
   "execution_count": 22,
   "id": "e0c1389f-d9e8-4685-963d-312757160ed3",
   "metadata": {},
   "outputs": [],
   "source": [
    "model=GradientBoostingRegressor(n_estimators=500,learning_rate=0.05,random_state=24)"
   ]
  },
  {
   "cell_type": "code",
   "execution_count": 24,
   "id": "9f715ef6-1133-4b2a-8120-f62376980e27",
   "metadata": {},
   "outputs": [],
   "source": [
    "model.fit(X_train,Y_train)\n",
    "loan_amount=model.predict(X_test)"
   ]
  },
  {
   "cell_type": "code",
   "execution_count": 25,
   "id": "309971e3-0c72-4704-877e-b9d0b08017d3",
   "metadata": {},
   "outputs": [],
   "source": [
    "from sklearn.metrics import r2_score,mean_absolute_error,mean_squared_error"
   ]
  },
  {
   "cell_type": "code",
   "execution_count": 26,
   "id": "bcb5857a-6b95-4387-9636-bff0ebe0e9c0",
   "metadata": {},
   "outputs": [
    {
     "name": "stdout",
     "output_type": "stream",
     "text": [
      "Mean Absolute Error: 280.9551751063359\n",
      "Mean Squared Error: 203029.72053641814\n",
      "R2 Score: 0.9948800953683323\n"
     ]
    }
   ],
   "source": [
    "print(f'Mean Absolute Error: {mean_absolute_error(Y_test, loan_amount)}')\n",
    "print(f'Mean Squared Error: {mean_squared_error(Y_test, loan_amount)}')\n",
    "print(f'R2 Score: {r2_score(Y_test, loan_amount)}')\n"
   ]
  },
  {
   "cell_type": "code",
   "execution_count": 27,
   "id": "df791b9f-0a12-440a-89ae-756c5360af6d",
   "metadata": {},
   "outputs": [],
   "source": [
    "import joblib"
   ]
  },
  {
   "cell_type": "code",
   "execution_count": 28,
   "id": "00bfec2a-8ff6-4f9f-8d78-5db38fa0351b",
   "metadata": {
    "scrolled": true
   },
   "outputs": [
    {
     "data": {
      "text/plain": [
       "['label_encoder.joblib']"
      ]
     },
     "execution_count": 28,
     "metadata": {},
     "output_type": "execute_result"
    }
   ],
   "source": [
    "joblib.dump(model,'Credit_Check.joblib')\n",
    "joblib.dump(label_encoder,'label_encoder.joblib')"
   ]
  },
  {
   "cell_type": "code",
   "execution_count": 29,
   "id": "d2d027b2-66e3-4081-8e6e-d6cf08798ecf",
   "metadata": {},
   "outputs": [
    {
     "data": {
      "text/html": [
       "<div>\n",
       "<style scoped>\n",
       "    .dataframe tbody tr th:only-of-type {\n",
       "        vertical-align: middle;\n",
       "    }\n",
       "\n",
       "    .dataframe tbody tr th {\n",
       "        vertical-align: top;\n",
       "    }\n",
       "\n",
       "    .dataframe thead th {\n",
       "        text-align: right;\n",
       "    }\n",
       "</style>\n",
       "<table border=\"1\" class=\"dataframe\">\n",
       "  <thead>\n",
       "    <tr style=\"text-align: right;\">\n",
       "      <th></th>\n",
       "      <th>person_age</th>\n",
       "      <th>person_income</th>\n",
       "      <th>person_home_ownership</th>\n",
       "      <th>person_emp_length</th>\n",
       "      <th>loan_intent</th>\n",
       "      <th>loan_grade</th>\n",
       "      <th>loan_amnt</th>\n",
       "      <th>loan_int_rate</th>\n",
       "      <th>loan_status</th>\n",
       "      <th>loan_percent_income</th>\n",
       "      <th>cb_person_cred_hist_length</th>\n",
       "      <th>cb_person_default_on_file_N</th>\n",
       "      <th>cb_person_default_on_file_Y</th>\n",
       "    </tr>\n",
       "  </thead>\n",
       "  <tbody>\n",
       "    <tr>\n",
       "      <th>0</th>\n",
       "      <td>22</td>\n",
       "      <td>59000</td>\n",
       "      <td>3</td>\n",
       "      <td>123.0</td>\n",
       "      <td>4</td>\n",
       "      <td>3</td>\n",
       "      <td>35000</td>\n",
       "      <td>16.02</td>\n",
       "      <td>1</td>\n",
       "      <td>59.0</td>\n",
       "      <td>3</td>\n",
       "      <td>False</td>\n",
       "      <td>True</td>\n",
       "    </tr>\n",
       "    <tr>\n",
       "      <th>1</th>\n",
       "      <td>21</td>\n",
       "      <td>9600</td>\n",
       "      <td>2</td>\n",
       "      <td>5.0</td>\n",
       "      <td>1</td>\n",
       "      <td>1</td>\n",
       "      <td>1000</td>\n",
       "      <td>11.14</td>\n",
       "      <td>0</td>\n",
       "      <td>10.0</td>\n",
       "      <td>2</td>\n",
       "      <td>True</td>\n",
       "      <td>False</td>\n",
       "    </tr>\n",
       "    <tr>\n",
       "      <th>2</th>\n",
       "      <td>25</td>\n",
       "      <td>9600</td>\n",
       "      <td>0</td>\n",
       "      <td>1.0</td>\n",
       "      <td>3</td>\n",
       "      <td>2</td>\n",
       "      <td>5500</td>\n",
       "      <td>12.87</td>\n",
       "      <td>1</td>\n",
       "      <td>57.0</td>\n",
       "      <td>3</td>\n",
       "      <td>True</td>\n",
       "      <td>False</td>\n",
       "    </tr>\n",
       "    <tr>\n",
       "      <th>3</th>\n",
       "      <td>23</td>\n",
       "      <td>65500</td>\n",
       "      <td>3</td>\n",
       "      <td>4.0</td>\n",
       "      <td>3</td>\n",
       "      <td>2</td>\n",
       "      <td>35000</td>\n",
       "      <td>15.23</td>\n",
       "      <td>1</td>\n",
       "      <td>53.0</td>\n",
       "      <td>2</td>\n",
       "      <td>True</td>\n",
       "      <td>False</td>\n",
       "    </tr>\n",
       "    <tr>\n",
       "      <th>4</th>\n",
       "      <td>24</td>\n",
       "      <td>54400</td>\n",
       "      <td>3</td>\n",
       "      <td>8.0</td>\n",
       "      <td>3</td>\n",
       "      <td>2</td>\n",
       "      <td>35000</td>\n",
       "      <td>14.27</td>\n",
       "      <td>1</td>\n",
       "      <td>55.0</td>\n",
       "      <td>4</td>\n",
       "      <td>False</td>\n",
       "      <td>True</td>\n",
       "    </tr>\n",
       "    <tr>\n",
       "      <th>...</th>\n",
       "      <td>...</td>\n",
       "      <td>...</td>\n",
       "      <td>...</td>\n",
       "      <td>...</td>\n",
       "      <td>...</td>\n",
       "      <td>...</td>\n",
       "      <td>...</td>\n",
       "      <td>...</td>\n",
       "      <td>...</td>\n",
       "      <td>...</td>\n",
       "      <td>...</td>\n",
       "      <td>...</td>\n",
       "      <td>...</td>\n",
       "    </tr>\n",
       "    <tr>\n",
       "      <th>32576</th>\n",
       "      <td>57</td>\n",
       "      <td>53000</td>\n",
       "      <td>0</td>\n",
       "      <td>1.0</td>\n",
       "      <td>4</td>\n",
       "      <td>2</td>\n",
       "      <td>5800</td>\n",
       "      <td>13.16</td>\n",
       "      <td>0</td>\n",
       "      <td>11.0</td>\n",
       "      <td>30</td>\n",
       "      <td>True</td>\n",
       "      <td>False</td>\n",
       "    </tr>\n",
       "    <tr>\n",
       "      <th>32577</th>\n",
       "      <td>54</td>\n",
       "      <td>120000</td>\n",
       "      <td>0</td>\n",
       "      <td>4.0</td>\n",
       "      <td>4</td>\n",
       "      <td>0</td>\n",
       "      <td>17625</td>\n",
       "      <td>7.49</td>\n",
       "      <td>0</td>\n",
       "      <td>15.0</td>\n",
       "      <td>19</td>\n",
       "      <td>True</td>\n",
       "      <td>False</td>\n",
       "    </tr>\n",
       "    <tr>\n",
       "      <th>32578</th>\n",
       "      <td>65</td>\n",
       "      <td>76000</td>\n",
       "      <td>3</td>\n",
       "      <td>3.0</td>\n",
       "      <td>2</td>\n",
       "      <td>1</td>\n",
       "      <td>35000</td>\n",
       "      <td>10.99</td>\n",
       "      <td>1</td>\n",
       "      <td>46.0</td>\n",
       "      <td>28</td>\n",
       "      <td>True</td>\n",
       "      <td>False</td>\n",
       "    </tr>\n",
       "    <tr>\n",
       "      <th>32579</th>\n",
       "      <td>56</td>\n",
       "      <td>150000</td>\n",
       "      <td>0</td>\n",
       "      <td>5.0</td>\n",
       "      <td>4</td>\n",
       "      <td>1</td>\n",
       "      <td>15000</td>\n",
       "      <td>11.48</td>\n",
       "      <td>0</td>\n",
       "      <td>10.0</td>\n",
       "      <td>26</td>\n",
       "      <td>True</td>\n",
       "      <td>False</td>\n",
       "    </tr>\n",
       "    <tr>\n",
       "      <th>32580</th>\n",
       "      <td>66</td>\n",
       "      <td>42000</td>\n",
       "      <td>3</td>\n",
       "      <td>2.0</td>\n",
       "      <td>3</td>\n",
       "      <td>1</td>\n",
       "      <td>6475</td>\n",
       "      <td>9.99</td>\n",
       "      <td>0</td>\n",
       "      <td>15.0</td>\n",
       "      <td>30</td>\n",
       "      <td>True</td>\n",
       "      <td>False</td>\n",
       "    </tr>\n",
       "  </tbody>\n",
       "</table>\n",
       "<p>32581 rows × 13 columns</p>\n",
       "</div>"
      ],
      "text/plain": [
       "       person_age  person_income  person_home_ownership  person_emp_length  \\\n",
       "0              22          59000                      3              123.0   \n",
       "1              21           9600                      2                5.0   \n",
       "2              25           9600                      0                1.0   \n",
       "3              23          65500                      3                4.0   \n",
       "4              24          54400                      3                8.0   \n",
       "...           ...            ...                    ...                ...   \n",
       "32576          57          53000                      0                1.0   \n",
       "32577          54         120000                      0                4.0   \n",
       "32578          65          76000                      3                3.0   \n",
       "32579          56         150000                      0                5.0   \n",
       "32580          66          42000                      3                2.0   \n",
       "\n",
       "       loan_intent  loan_grade  loan_amnt  loan_int_rate  loan_status  \\\n",
       "0                4           3      35000          16.02            1   \n",
       "1                1           1       1000          11.14            0   \n",
       "2                3           2       5500          12.87            1   \n",
       "3                3           2      35000          15.23            1   \n",
       "4                3           2      35000          14.27            1   \n",
       "...            ...         ...        ...            ...          ...   \n",
       "32576            4           2       5800          13.16            0   \n",
       "32577            4           0      17625           7.49            0   \n",
       "32578            2           1      35000          10.99            1   \n",
       "32579            4           1      15000          11.48            0   \n",
       "32580            3           1       6475           9.99            0   \n",
       "\n",
       "       loan_percent_income  cb_person_cred_hist_length  \\\n",
       "0                     59.0                           3   \n",
       "1                     10.0                           2   \n",
       "2                     57.0                           3   \n",
       "3                     53.0                           2   \n",
       "4                     55.0                           4   \n",
       "...                    ...                         ...   \n",
       "32576                 11.0                          30   \n",
       "32577                 15.0                          19   \n",
       "32578                 46.0                          28   \n",
       "32579                 10.0                          26   \n",
       "32580                 15.0                          30   \n",
       "\n",
       "       cb_person_default_on_file_N  cb_person_default_on_file_Y  \n",
       "0                            False                         True  \n",
       "1                             True                        False  \n",
       "2                             True                        False  \n",
       "3                             True                        False  \n",
       "4                            False                         True  \n",
       "...                            ...                          ...  \n",
       "32576                         True                        False  \n",
       "32577                         True                        False  \n",
       "32578                         True                        False  \n",
       "32579                         True                        False  \n",
       "32580                         True                        False  \n",
       "\n",
       "[32581 rows x 13 columns]"
      ]
     },
     "execution_count": 29,
     "metadata": {},
     "output_type": "execute_result"
    }
   ],
   "source": [
    "file"
   ]
  },
  {
   "cell_type": "code",
   "execution_count": null,
   "id": "6c1c3261-1dc3-4847-9acf-328ba11690f4",
   "metadata": {},
   "outputs": [],
   "source": []
  }
 ],
 "metadata": {
  "kernelspec": {
   "display_name": "Python 3 (ipykernel)",
   "language": "python",
   "name": "python3"
  },
  "language_info": {
   "codemirror_mode": {
    "name": "ipython",
    "version": 3
   },
   "file_extension": ".py",
   "mimetype": "text/x-python",
   "name": "python",
   "nbconvert_exporter": "python",
   "pygments_lexer": "ipython3",
   "version": "3.12.4"
  }
 },
 "nbformat": 4,
 "nbformat_minor": 5
}
